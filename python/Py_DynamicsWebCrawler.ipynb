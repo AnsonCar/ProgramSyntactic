{
 "cells": [
  {
   "cell_type": "markdown",
   "id": "b45b1d02-05f8-4c7e-aa54-c34039a796e1",
   "metadata": {
    "tags": []
   },
   "source": [
    "# 動態爬蟲\n",
    "- - -"
   ]
  },
  {
   "cell_type": "markdown",
   "id": "a666e330-d2cf-44b5-b966-f6e174f1e5a4",
   "metadata": {},
   "source": [
    "本Code為動態爬蟲。  \n",
    "只爬靜態網站，可只用 BeautifulSoup"
   ]
  },
  {
   "cell_type": "markdown",
   "id": "e721d82d-492d-469f-a028-350370b2b70e",
   "metadata": {},
   "source": [
    "本次爬蟲的網站： <u> https://www.primeproperty.com.hk/searchbuilding/hong-kong-office/aberdeen </u>  \n",
    "資料：大廈中文名字"
   ]
  },
  {
   "cell_type": "markdown",
   "id": "b4fc1707-6af7-4adf-95e7-7ee0fa7dec7b",
   "metadata": {},
   "source": [
    "## 1. 引入庫\n",
    "- - -\n",
    "#### 安裝庫： \n",
    "- pip install pandas  \n",
    "- pip install requests  \n",
    "- pip install beautifulsoup4  \n",
    "- pip install selenium  \n",
    "\n",
    "以及安裝 webdriver  \n",
    "https://chromedriver.chromium.org/home"
   ]
  },
  {
   "cell_type": "code",
   "execution_count": 1,
   "id": "cb51edb2-39cb-49b4-9b7a-524365f31c28",
   "metadata": {},
   "outputs": [],
   "source": [
    "import pandas as pd\n",
    "import requests\n",
    "import time\n",
    "\n",
    "from bs4 import BeautifulSoup\n",
    "\n",
    "from selenium import webdriver\n",
    "from selenium.webdriver.chrome.options import Options"
   ]
  },
  {
   "cell_type": "markdown",
   "id": "30e50e22-c807-433d-a291-39bd93665a0f",
   "metadata": {},
   "source": [
    "## 2. 前往網站\n",
    "- - -"
   ]
  },
  {
   "cell_type": "markdown",
   "id": "4b9846cc-0d7a-487a-94a7-88cc9bcf093c",
   "metadata": {},
   "source": [
    "##### options物件，主要用途為取消網頁中的彈出視窗，避免妨礙網路爬蟲的執行。"
   ]
  },
  {
   "cell_type": "code",
   "execution_count": 2,
   "id": "6fb755c0-96e5-40fb-a587-a8fe3162d1b2",
   "metadata": {},
   "outputs": [],
   "source": [
    "options = Options() \n",
    "options.add_argument(\"--disable-notifications\")"
   ]
  },
  {
   "cell_type": "markdown",
   "id": "3d3c5300-f387-43c1-9926-b0858d2f3d42",
   "metadata": {},
   "source": [
    "##### 建立webdriver物件"
   ]
  },
  {
   "cell_type": "code",
   "execution_count": 3,
   "id": "64fd6c2a-cd03-457f-82bd-f891e963dc78",
   "metadata": {
    "tags": []
   },
   "outputs": [
    {
     "name": "stderr",
     "output_type": "stream",
     "text": [
      "/var/folders/cx/cndnqql97sv3jb6qfwf192hr0000gn/T/ipykernel_2666/2054789813.py:1: DeprecationWarning: executable_path has been deprecated, please pass in a Service object\n",
      "  chrome = webdriver.Chrome('./chromedriver', chrome_options=options)\n",
      "/var/folders/cx/cndnqql97sv3jb6qfwf192hr0000gn/T/ipykernel_2666/2054789813.py:1: DeprecationWarning: use options instead of chrome_options\n",
      "  chrome = webdriver.Chrome('./chromedriver', chrome_options=options)\n"
     ]
    }
   ],
   "source": [
    "chrome = webdriver.Chrome('./chromedriver', chrome_options=options)"
   ]
  },
  {
   "cell_type": "markdown",
   "id": "61a3c3e7-1847-4a20-b27c-b1429c772df8",
   "metadata": {},
   "source": [
    "##### 前往要爬取的網頁網址"
   ]
  },
  {
   "cell_type": "code",
   "execution_count": 4,
   "id": "19452e1d-db3b-4446-9fdc-1353107319e8",
   "metadata": {},
   "outputs": [],
   "source": [
    "chrome.get(\"https://www.primeproperty.com.hk/searchbuilding/kowloon-office/cheung-sha-wan\")"
   ]
  },
  {
   "cell_type": "markdown",
   "id": "bd69259a-c466-4842-92eb-f3be3cb04c89",
   "metadata": {
    "tags": []
   },
   "source": [
    "## 3. 消除彈窗\n",
    "- - -"
   ]
  },
  {
   "cell_type": "markdown",
   "id": "f45aaacf-cc13-43df-843f-e341b45871fd",
   "metadata": {},
   "source": [
    "一進入這個網站會有一個彈出視窗（上面消除不到），  \n",
    "所以要用 .click() 去消除彈窗。"
   ]
  },
  {
   "cell_type": "code",
   "execution_count": 5,
   "id": "afa2cf27-b0d6-4261-acb1-c6ceccc47fb7",
   "metadata": {},
   "outputs": [],
   "source": [
    "pushbutton = chrome.find_element(\"id\" ,\"ensCloseBanner\") #定位button位置 # find_element( \"Type\" ,\"TypeName\")\n",
    "pushbutton.click() #模擬點擊"
   ]
  },
  {
   "cell_type": "markdown",
   "id": "3133450c-ffaf-4590-879e-ab5a68e7cde4",
   "metadata": {
    "tags": []
   },
   "source": [
    "#### 小知識  \n",
    "這樣可以輸入內容及按模擬按Enter  \n",
    ".send_keys('輸入內容')  \n",
    ".submit()"
   ]
  },
  {
   "cell_type": "markdown",
   "id": "ad71a03b-e84b-4550-a576-3ec5f2b904ec",
   "metadata": {
    "tags": []
   },
   "source": [
    "## 4. 下拉更新網站\n",
    "- - -"
   ]
  },
  {
   "cell_type": "markdown",
   "id": "6c0cbd90-1b8e-44be-80df-0ff5e3da7b9d",
   "metadata": {},
   "source": [
    "#### 重點"
   ]
  },
  {
   "cell_type": "markdown",
   "id": "f888fe41-37ae-4a1e-b8ac-46066dc88b3d",
   "metadata": {},
   "source": [
    "一開始載入網站時，只有靜態的 HTML，  \n",
    "如果想要動態更新後的 HTML，  \n",
    "就必須透過 <b> 滾動捲軸 </b> 來動態載入，  \n",
    "那就需要使用 <b> execute_script() </b> 。"
   ]
  },
  {
   "cell_type": "code",
   "execution_count": 6,
   "id": "6daf895c-d8eb-40f1-9eb5-a0f391f752a4",
   "metadata": {
    "tags": []
   },
   "outputs": [],
   "source": [
    "for x in range(1,11): #下拉幾次\n",
    "    chrome.execute_script((\"window.scrollBy(0,800)\")) #下拉(數字控制拉幾多)\n",
    "    time.sleep(1) #暫停執行程式，載入元素"
   ]
  },
  {
   "cell_type": "markdown",
   "id": "dceba30d-4fa5-4b32-b159-74450be205aa",
   "metadata": {},
   "source": [
    "## 5. 爬蟲  \n",
    "- - -"
   ]
  },
  {
   "cell_type": "markdown",
   "id": "af625700-0ded-4306-9cf1-a3be5e8f4224",
   "metadata": {},
   "source": [
    "動態更新完，就可以用 BeautifulSoup 爬取 更新後的網頁的 HTML"
   ]
  },
  {
   "cell_type": "code",
   "execution_count": 7,
   "id": "05dbc6e2-588f-4dd6-b9a9-d7d665984ec3",
   "metadata": {},
   "outputs": [],
   "source": [
    "soup = BeautifulSoup(chrome.page_source, 'html.parser') # page_source = 原始碼(HTML)"
   ]
  },
  {
   "cell_type": "code",
   "execution_count": 8,
   "id": "002e0db9-1c7b-40ef-b412-2e7bd26cce13",
   "metadata": {},
   "outputs": [],
   "source": [
    "INeed = soup.find_all(class_ = \"d-block h6 mt-3 mb-0 text-333 font-weight-bold\") # 目標資料"
   ]
  },
  {
   "cell_type": "markdown",
   "id": "07716464-2d22-42fc-ac33-5312e6fb1c8b",
   "metadata": {},
   "source": [
    "## 6.整理資料\n",
    "- - -"
   ]
  },
  {
   "cell_type": "markdown",
   "id": "1d55163b-6095-49c6-949f-dda32d182024",
   "metadata": {},
   "source": [
    "目標資料已經成功爬到手，恭喜恭喜。  \n",
    "但資料還有HTMl碼存在，所以我們需要整再作進一步處理。"
   ]
  },
  {
   "cell_type": "code",
   "execution_count": 9,
   "id": "cb2a3ee5-eb2f-4235-9138-3e36546437a8",
   "metadata": {},
   "outputs": [],
   "source": [
    "output = []\n",
    "output2 = []\n",
    "output3 = []"
   ]
  },
  {
   "cell_type": "code",
   "execution_count": 10,
   "id": "ae13a936-4980-4b05-834b-961e95565120",
   "metadata": {},
   "outputs": [],
   "source": [
    "for x in INeed:\n",
    "    output.append(x.text)"
   ]
  },
  {
   "cell_type": "code",
   "execution_count": 11,
   "id": "8fc2cae6-c450-4f94-8905-d4318eb90992",
   "metadata": {},
   "outputs": [],
   "source": [
    "for x in output:\n",
    "    output2.append(x.strip())"
   ]
  },
  {
   "cell_type": "code",
   "execution_count": 12,
   "id": "18f05697-f5b8-4b48-bde9-40dbb513ab9b",
   "metadata": {},
   "outputs": [],
   "source": [
    "check = \"\\n\"\n",
    "for x in output2:\n",
    "    y = x.index(check, 0 ,len(x))\n",
    "    z = x[y:len(x)]\n",
    "    output3.append(z.strip())"
   ]
  },
  {
   "cell_type": "markdown",
   "id": "b2949115-f672-4a73-9436-acc074158c95",
   "metadata": {},
   "source": [
    "## 7. 輸出數據\n",
    "- - -"
   ]
  },
  {
   "cell_type": "markdown",
   "id": "b77c0ebc-655e-46d3-b1fe-841187893ae1",
   "metadata": {},
   "source": [
    "再一次恭喜你，成功爬取目標資料，  \n",
    "最後，我們要把這些資料 輸出成 csv檔，方便日後使用。"
   ]
  },
  {
   "cell_type": "code",
   "execution_count": 13,
   "id": "ca3c80bf-913d-4a82-af35-01a69a0e9517",
   "metadata": {},
   "outputs": [],
   "source": [
    "Table = pd.DataFrame({\"大廈中文名字\":output3}) # 用字典格式告知 pandas 要做成 DataFrame 的數據"
   ]
  },
  {
   "cell_type": "code",
   "execution_count": 14,
   "id": "7abddaa3-d8a9-4280-89c2-e81f3547ba0d",
   "metadata": {},
   "outputs": [],
   "source": [
    "Table.to_csv(\"/Users/ansoncar/desktop/Building.csv\", index = False) # index可加，可不加"
   ]
  },
  {
   "cell_type": "markdown",
   "id": "57803179-cb11-4202-83e4-3d5e1bac6d5f",
   "metadata": {},
   "source": [
    "# 完結"
   ]
  },
  {
   "cell_type": "code",
   "execution_count": 15,
   "id": "97172612-3f82-47a7-aff0-841782ab9ccc",
   "metadata": {},
   "outputs": [],
   "source": [
    "chrome.close() # 關閉 webdriver"
   ]
  },
  {
   "cell_type": "markdown",
   "id": "73808c04-b8ff-41f5-b9b3-7cd3c948a2f9",
   "metadata": {
    "tags": []
   },
   "source": [
    "## 參考資料\n",
    "- - -"
   ]
  },
  {
   "cell_type": "markdown",
   "id": "5dbd2235-eeeb-4719-8f71-1ff15bbc146b",
   "metadata": {},
   "source": [
    "1. https://www.learncodewithmike.com/2020/05/python-selenium-scraper.html  \n",
    "2. https://www.learncodewithmike.com/2020/06/python-selenium-waits.html  \n",
    "3. https://ithelp.ithome.com.tw/articles/10242180\n",
    "4. https://selenium-python-zh.readthedocs.io/en/latest/index.html （舊版中文文檔）\n",
    "5. https://blog.csdn.net/fly910905/article/details/83793154\n"
   ]
  },
  {
   "cell_type": "markdown",
   "id": "6058917d",
   "metadata": {},
   "source": [
    "更新於 27-10-2022\n",
    "by 重韻"
   ]
  }
 ],
 "metadata": {
  "kernelspec": {
   "display_name": "Python 3 (ipykernel)",
   "language": "python",
   "name": "python3"
  },
  "language_info": {
   "codemirror_mode": {
    "name": "ipython",
    "version": 3
   },
   "file_extension": ".py",
   "mimetype": "text/x-python",
   "name": "python",
   "nbconvert_exporter": "python",
   "pygments_lexer": "ipython3",
   "version": "3.11.0"
  },
  "vscode": {
   "interpreter": {
    "hash": "aee8b7b246df8f9039afb4144a1f6fd8d2ca17a180786b69acc140d282b71a49"
   }
  }
 },
 "nbformat": 4,
 "nbformat_minor": 5
}
