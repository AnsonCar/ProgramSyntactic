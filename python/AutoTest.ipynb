{
 "cells": [
  {
   "cell_type": "markdown",
   "metadata": {},
   "source": [
    "# 自動化"
   ]
  },
  {
   "cell_type": "markdown",
   "metadata": {},
   "source": [
    "## 安裝 及 引入庫"
   ]
  },
  {
   "cell_type": "code",
   "execution_count": null,
   "metadata": {},
   "outputs": [],
   "source": [
    "!pip3 install pyautogui"
   ]
  },
  {
   "cell_type": "code",
   "execution_count": null,
   "metadata": {},
   "outputs": [],
   "source": [
    "import pyautogui"
   ]
  },
  {
   "cell_type": "markdown",
   "metadata": {},
   "source": [
    "# 語法"
   ]
  },
  {
   "cell_type": "code",
   "execution_count": null,
   "metadata": {},
   "outputs": [],
   "source": [
    "#目前滑鼠坐標\n",
    "pyautogui.position()\n",
    "\n",
    "#目前螢幕解析度\n",
    "pyautogui.size()\n",
    "\n",
    "#(x,y)是否在螢幕上\n",
    "x, y = 122, 244\n",
    "pyautogui.onScreen(x, y)\n",
    "\n",
    "# 輸入Hello world!\n",
    "pyautogui.typewrite('Hello world!')\n",
    "\n",
    "# 每次輸入間隔0.25秒，輸入Hello world!\n",
    "pyautogui.typewrite('Hello world!', interval=0.25)\n",
    "\n",
    "# 時間內輸入多個按鍵\n",
    "pyautogui.typewrite(['a', 'b', 'c', 'd'], interval=0.3)\n",
    "\n",
    "# 按下單一按鍵\n",
    "pyautogui.press('enter')\n",
    "\n",
    "# 連續按左鍵\n",
    "pyautogui.press(['left', 'left', 'left'])\n",
    "\n",
    "# 按下`shift`鍵\n",
    "pyautogui.keyDown('shift')\n",
    "\n",
    "# 鬆開`shift`鍵\n",
    "pyautogui.keyUp('shift')\n",
    "\n",
    "# 組合鍵\n",
    "pyautogui.hotkey('shift','command', 'left')\n",
    "pyautogui.hotkey('command', 'c')\n",
    "pyautogui.hotkey('command', 'v') #windows系統改ctrl\n",
    "\n",
    "# 將鼠標移動到指定的x、y坐標。\n",
    "pyautogui.moveTo(x,y)\n",
    "\n",
    "# 相對於當前位道移動鼠標。\n",
    "pyautogui.moveRel(xoffset, yoffset)\n",
    "\n",
    "# 按下左鍵移動鼠標。\n",
    "pyautogui.dragTo(x, y)\n",
    "\n",
    "# 按下左鍵，相對於當前位置移動鼠標。\n",
    "pyautogui.dragRel(x0ffset, yoffset)\n",
    "\n",
    "# 模擬點擊(默認是左鍵)。rightclick()模擬右鍵點學。\n",
    "pyautogui.click(x, y, button)\n",
    "\n",
    "# 模擬中鍵點擊。\n",
    "pyautogui.middleClick()\n",
    "\n",
    "# 模擬左鍵雙擊。\n",
    "pyautogui.doubleclick()\n",
    "\n",
    "# 模擬在x、y處按下指定鼠標按鍵。\n",
    "pyautogui.mouseDown(x, y, button)\n",
    "\n",
    "# 模擬在x、y處釋放指定鍵。\n",
    "pyautogui.mouseUp(x, y, button)\n",
    "\n",
    "# 模擬滾動滾輪。正參数向上滖動，負參數表示向下滾動。\n",
    "pyautogui.scroll(units)\n",
    "\n",
    "# 鍵入給定消息字符串中的字符。\n",
    "pyautogui.typewrite(message)\n",
    "\n",
    "# 鍵入給定鍵字符串。\n",
    "pyautogui.typewrite( [key1, key2, key3])\n",
    "\n",
    "# 按下並釋放給定鍵。\n",
    "pyautogui.press(key)\n",
    "\n",
    "# 模擬按下給定鍵。\n",
    "pyautogui.keyDown(key)\n",
    "\n",
    "# 模擬釋放給定鍵。\n",
    "pyautogui.keyup(key)\n",
    "\n",
    "# 模擬按順序按下給定鍵字符串，然後以相反的順序釋放。\n",
    "pyautogui.hotkey([keyl, key2, key3])\n",
    "\n",
    "# 返回屏幕快照的Image對象。\n",
    "pyautogui.screenshot()"
   ]
  },
  {
   "cell_type": "code",
   "execution_count": null,
   "metadata": {},
   "outputs": [],
   "source": [
    "#用num_seconds秒的时间把光标移动到(x, y)位置\n",
    "num_seconds = 1.2\n",
    "pyautogui.moveTo(x, y, duration=num_seconds)\n",
    "#用num_seconds秒的时间把光标的X轴（水平）坐标移动xOffset，Y轴（竖直）坐标向下移动yOffset\n",
    "xOffset, yOffset = 50, 100\n",
    "pyautogui.moveRel(xOffset, yOffset, duration=num_seconds)\n",
    "#點擊左、中、右鍵\n",
    "pyautogui.rightClick(x=moveToX, y=moveToY)\n",
    "pyautogui.middleClick(x=moveToX, y=moveToY)\n",
    "pyautogui.doubleClick(x=moveToX, y=moveToY)\n",
    "pyautogui.tripleClick(x=moveToX, y=moveToY)\n",
    "#捲動\n",
    "pyautogui.scroll(clicks=amount_to_scroll, x=moveToX, y=moveToY)\n",
    "#移動滑鼠(若輸入None,則以目前滑鼠位置為基準)\n",
    "pyautogui.moveTo(100, 200)                 # 光标移动到(100, 200)位置\n",
    "pyautogui.moveTo(None, 500)                # 光标移动到(100, 500)位置\n",
    "pyautogui.moveTo(600, None)                # 光标移动到(600, 500)位置\n",
    "pyautogui.moveTo(100, 200, duration=2)     # 用2秒移动到(100, 200)位置\n",
    "#按住鼠标左键，把鼠标拖拽到(100, 200)位置\n",
    "pyautogui.dragTo(100, 200, button='left')\n",
    "#按住鼠标左键，用2秒钟把鼠标拖拽到(300, 400)位置\n",
    "pyautogui.dragTo(300, 400, 2, button='left')\n",
    "#按住鼠标右键，用2秒钟把鼠标拖拽到(30,0)位置\n",
    "pyautogui.dragTo(30, 0, 2, button='right')\n",
    "#點擊滑鼠\n",
    "pyautogui.click()\n",
    "#先移动到(100, 200)再點擊\n",
    "pyautogui.click(x=100, y=200, duration=2)\n",
    "#點擊滑鼠右鍵\n",
    "pyautogui.click(button='right')\n",
    "#雙擊左键\n",
    "pyautogui.click(clicks=2)\n",
    "#兩次單擊之间停0.25秒\n",
    "pyautogui.click(clicks=2, interval=0.25)\n",
    "#三擊右键\n",
    "pyautogui.click(button='right', clicks=2, interval=0.25)\n",
    "\n",
    "#mouseDown：按下；ｍouseUp：鬆開\n",
    "\n",
    "#鼠标左键按下再松开\n",
    "pyautogui.mouseDown(); pyautogui.mouseUp() \n",
    "#按下鼠标右键\n",
    "pyautogui.mouseDown(button='right') \n",
    "#移动到(100, 200)位置，然后松开鼠标右键\n",
    "pyautogui.mouseUp(button='right', x=100, y=200)\n",
    "#向上滚动10格\n",
    "pyautogui.scroll(10)\n",
    "#向下滚动10格\n",
    "pyautogui.scroll(-10)\n",
    "#移动到(100, 100)位置再向上滚动10格\n",
    "pyautogui.scroll(10, x=100, y=100)"
   ]
  },
  {
   "cell_type": "code",
   "execution_count": null,
   "metadata": {},
   "outputs": [],
   "source": [
    "#输入Hello world!\n",
    "pyautogui.typewrite('Hello world!')\n",
    "#每次输入间隔0.25秒，输入Hello world!\n",
    "pyautogui.typewrite('Hello world!', interval=0.25)\n",
    "#輸入多個按鍵\n",
    "pyautogui.typewrite(['a', 'b', 'c', 'left', 'backspace', 'enter', 'f1'], interval=secs_between_keys)\n",
    "#按下ENTER键\n",
    "pyautogui.press('enter')\n",
    "#按下F1键\n",
    "pyautogui.press('f1')\n",
    "#按下左方向键\n",
    "pyautogui.press('left')\n",
    "#連續按左鍵\n",
    "pyautogui.press(['left', 'left', 'left'])\n",
    "#按下`shift`键\n",
    "pyautogui.keyDown('shift')\n",
    "pyautogui.press('left')\n",
    "pyautogui.press('left')\n",
    "pyautogui.press('left')\n",
    "#鬆開`shift`键\n",
    "pyautogui.keyUp('shift')\n",
    "#快捷鍵\n",
    "pyautogui.hotkey('ctrl', 'a') # 全選\n",
    "pyautogui.hotkey('ctrl', 'c') # 複製\n",
    "pyautogui.hotkey('ctrl', 'v') # 貼上\n",
    "pyautogui.hotkey('ctrl', 'alt', 'delete')#快捷鍵組合"
   ]
  },
  {
   "cell_type": "code",
   "execution_count": null,
   "metadata": {},
   "outputs": [],
   "source": [
    "#截圖\n",
    "pyautogui.screenshot()\n",
    "pyautogui.screenshot('foo.png')\n",
    "#開啟圖片顯示X坐標、Y坐標\n",
    "pyautogui.locateOnScreen('pyautogui/looks.png')\n",
    "#圖片中心點X坐標、Y坐標pyautogui.locateCenterOnScreen('pyautogui/looks.png')"
   ]
  },
  {
   "cell_type": "code",
   "execution_count": null,
   "metadata": {},
   "outputs": [],
   "source": [
    "#定位函數：使用圖片而不是座標來進行操作\n",
    "#在前面的功能當中，都必須使用座標的方式，才能進行自動化，相當不便，如果能讓PyAutoGUI透過圖片來進行辨識，將能省下不少的時間\n",
    "\n",
    "#以Windows內建的計算機為例，實現1+1=2的自動化操作\n",
    "#首先，我們必須透過螢幕擷取工具，將計算機當中\"1\"和\"+\"的按鈕位置擷取成圖片檔\n",
    "#隨後，透過locateCenterOnScreen，進行讀取按鈕位置的動作(回傳的是座標位置)\n",
    "#搭配上.click指令，即可完成操作\n",
    "import pyautogui                      \n",
    "pyautogui.click((pyautogui.locateCenterOnScreen('auxillary_files/1key.png')))       \n",
    "pyautogui.click((pyautogui.locateCenterOnScreen('auxillary_files/pluskey.png')))              \n",
    "pyautogui.click((pyautogui.locateCenterOnScreen('auxillary_files/1key.png')))            \n",
    "pyautogui.press('enter')"
   ]
  },
  {
   "cell_type": "markdown",
   "metadata": {},
   "source": [
    "# 參考資料\n",
    "- https://badgameshow.com/steven/python/pyautogui-python%E6%8E%A7%E5%88%B6%E9%9B%BB%E8%85%A6-%E6%8C%89%E9%8D%B5%E7%B2%BE%E9%9D%88-%E9%8D%B5%E7%9B%A4%E6%8E%A7%E5%88%B6/\n",
    "- https://yanwei-liu.medium.com/pyautogui-%E4%BD%BF%E7%94%A8python%E6%93%8D%E6%8E%A7%E9%9B%BB%E8%85%A6-662cc3b18b80"
   ]
  }
 ],
 "metadata": {
  "kernelspec": {
   "display_name": "Python 3.11.0 64-bit",
   "language": "python",
   "name": "python3"
  },
  "language_info": {
   "codemirror_mode": {
    "name": "ipython",
    "version": 3
   },
   "file_extension": ".py",
   "mimetype": "text/x-python",
   "name": "python",
   "nbconvert_exporter": "python",
   "pygments_lexer": "ipython3",
   "version": "3.11.0"
  },
  "orig_nbformat": 4,
  "vscode": {
   "interpreter": {
    "hash": "aee8b7b246df8f9039afb4144a1f6fd8d2ca17a180786b69acc140d282b71a49"
   }
  }
 },
 "nbformat": 4,
 "nbformat_minor": 2
}
