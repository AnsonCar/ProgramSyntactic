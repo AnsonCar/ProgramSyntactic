{
 "cells": [
  {
   "cell_type": "markdown",
   "metadata": {},
   "source": [
    "# 安裝 python 及 相關IDE\n",
    "- - -"
   ]
  },
  {
   "cell_type": "markdown",
   "metadata": {},
   "source": [
    "Python 主要用於 自動化，資料科學人工智慧與機器學習（數據分析）  \n",
    "Python 版本： 3.11.0  \n",
    "IDE: Jupyter Lab, Visual Studio Code  \n"
   ]
  },
  {
   "cell_type": "markdown",
   "metadata": {},
   "source": [
    "## 1.1 環境搭建\n",
    "- - -"
   ]
  },
  {
   "cell_type": "markdown",
   "metadata": {},
   "source": [
    "### 1.1.1 安裝 python\n",
    "1. 打開 <https://www.python.org/>\n",
    "2. 按 Downloads 跳到 Downloads頁面\n",
    "3. 按 Download Python 3.XX.X  \n",
    "<br>註: 默認安裝python 最新版本，如果想要其他版本可以下拉找出自己想要的版本"
   ]
  },
  {
   "cell_type": "markdown",
   "metadata": {},
   "source": [
    "### 1.1.2 安裝 Jupyter Lab\n",
    "1. 打開 終端機 (Terminal)\n",
    "   - Mac : 在啟動台 打開 終端機\n",
    "   - Win : 搜尋 cmd\n",
    "2. 輪入 pip install jupyterlab\n",
    "   - 等待完成，不要急，電腦會下載很多文件，不要中途關閉 Terminal。\n",
    "3. 下載完成後，在 Terminal 輸入 jupyter-lab\n",
    "   - 之後要打開 Jupyter Lab 都是這樣做"
   ]
  },
  {
   "cell_type": "markdown",
   "metadata": {},
   "source": [
    "### 1.1.3 安裝 Visual Studio Code\n",
    "1. 前往 <https://code.visualstudio.com/>\n",
    "2. 按 Download XXX\n",
    "3. 安裝軟件\n",
    "4. 順利打開會提示你安裝 中文套件（看你的需求）\n",
    "5. 安裝延伸模組 Python  \n",
    "<br>註: VSc是個非常好用的IDE, 其他語言都會用到(e.g JavaScript, Java)"
   ]
  },
  {
   "cell_type": "markdown",
   "metadata": {},
   "source": [
    "## 2. 常用python格式\n",
    "- - -\n",
    "- .py\n",
    "- .ipynb"
   ]
  },
  {
   "cell_type": "markdown",
   "metadata": {},
   "source": [
    "## 3. 名詞解釋\n",
    "- - -\n",
    "<b>IDE:</b>  \n",
    "Integrated Development Environmen 整合開發環境  \n",
    "是一種輔助程式開發人員開發軟件的應用軟件，在開發工具內部就可以輔助編寫原始碼文字、並編譯打包成為可用的程式，有些甚至可以設計圖形介面。\n"
   ]
  },
  {
   "cell_type": "markdown",
   "metadata": {},
   "source": [
    "## 參考資料\n",
    "- - -\n",
    "- <https://hahow.in/contents/articles/624d53f07950880006ac2f82>\n",
    "- <https://jupyter.org/>\n",
    "- <https://code.visualstudio.com/>\n",
    "- <https://zh.m.wikipedia.org/zh-hk/%E9%9B%86%E6%88%90%E5%BC%80%E5%8F%91%E7%8E%AF%E5%A2%83>"
   ]
  },
  {
   "cell_type": "markdown",
   "id": "6058917d",
   "metadata": {},
   "source": [
    "更新於 25-11-2022 by 重韻"
   ]
  }
 ],
 "metadata": {
  "kernelspec": {
   "display_name": "Python 3.11.0 64-bit",
   "language": "python",
   "name": "python3"
  },
  "language_info": {
   "codemirror_mode": {
    "name": "ipython",
    "version": 3
   },
   "file_extension": ".py",
   "mimetype": "text/x-python",
   "name": "python",
   "nbconvert_exporter": "python",
   "pygments_lexer": "ipython3",
   "version": "3.11.0"
  },
  "orig_nbformat": 4,
  "vscode": {
   "interpreter": {
    "hash": "aee8b7b246df8f9039afb4144a1f6fd8d2ca17a180786b69acc140d282b71a49"
   }
  }
 },
 "nbformat": 4,
 "nbformat_minor": 2
}
