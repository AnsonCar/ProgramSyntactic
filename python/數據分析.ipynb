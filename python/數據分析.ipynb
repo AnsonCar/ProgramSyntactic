{
 "cells": [
  {
   "cell_type": "markdown",
   "id": "d7d47292-d71c-4f0d-9cd9-a7b99427167f",
   "metadata": {
    "tags": []
   },
   "source": [
    "## 數據分析"
   ]
  },
  {
   "cell_type": "markdown",
   "id": "191f353b-d27b-4f57-913e-373c780aa334",
   "metadata": {},
   "source": [
    "<b>現狀分析 -> 原因分析 -> 預測分析</b>  \n",
    "<b>在 數據 中找出 問題 及 合適的解決方案。</b>\n",
    "- 數據包含文本、音樂、文字、數字等。"
   ]
  },
  {
   "cell_type": "markdown",
   "id": "abb68246-55e2-4f92-93c3-a7c71c4b0424",
   "metadata": {
    "tags": []
   },
   "source": [
    "### 狹義的數據分析"
   ]
  },
  {
   "cell_type": "markdown",
   "id": "8631ff52-77fd-4605-b828-c520cb510ed4",
   "metadata": {},
   "source": [
    "根據分析目的，採用 <b>對比分析</b>、<b>分組分析</b>、<b>交叉分析</b> 和 <b>回歸分析</b> 等分析方法，  \n",
    "對數據進行 處理與分析，提取有價值的信息，得到一個 <b>特徵統計量結果的過程</b>。"
   ]
  },
  {
   "cell_type": "markdown",
   "id": "7cfeddcc-903d-4cfe-81db-7c57f83417df",
   "metadata": {
    "tags": []
   },
   "source": [
    "### 應用"
   ]
  },
  {
   "cell_type": "markdown",
   "id": "7a1ba645-edb8-4d11-af29-ea91aa0ea825",
   "metadata": {},
   "source": [
    "1. 客戶分析\n",
    "    - 界定目標客戶，提高銷售率\n",
    "    - 客戶特征分析\n",
    "    - 客戶忠誠分析\n",
    "    - 客戶營銷分析 \n",
    "    - 客戶收益分析\n",
    "2. 社交媒體分析\n",
    "    - 用戶個人畫像\n",
    "    - 用戶愛好分析\n",
    "    - 預測用戶行為\n",
    "3. 營銷分析\n",
    "    - 產品分析\n",
    "    - 價格分析\n",
    "    - 渠道分析\n",
    "    - 廣告分析\n",
    "4. 交通物流分析\n",
    "5. 欺詐行為檢測\n",
    "6. 統計分析\n",
    "    - 數據描述分析\n",
    "    - 數據相關性分析\n",
    "    - 迴歸分析"
   ]
  },
  {
   "cell_type": "markdown",
   "id": "bc3636eb-b345-4e82-95ae-b4259458efc7",
   "metadata": {},
   "source": [
    "- - -"
   ]
  },
  {
   "cell_type": "markdown",
   "id": "722bd8c7-d165-45e1-8645-00d3714f64b4",
   "metadata": {
    "tags": []
   },
   "source": [
    "## 數據挖掘"
   ]
  },
  {
   "cell_type": "markdown",
   "id": "b3320072-7ed5-4ebf-8785-132a360a18af",
   "metadata": {},
   "source": [
    "從 <b> 大量的、不完全的、有噪聲的、模糊的、隨機的 </b>實際應用數據中，  \n",
    "通過應用 <b>聚類、分類、回歸、關聯規則</b> 等技術，挖掘 <b>潛在價值的過程</b>。\n",
    "- 數據融合，從量變到質變\n",
    "- 發現規律\n",
    "- 相關性分析\n",
    "- 趨勢預測"
   ]
  },
  {
   "cell_type": "markdown",
   "id": "76d6a009-dd91-4c16-889a-43a119da9a86",
   "metadata": {
    "tags": []
   },
   "source": [
    "### CRISP-DM 挖掘過程（六部曲）"
   ]
  },
  {
   "cell_type": "markdown",
   "id": "9f6460b4-4a49-4798-bd16-c1ccec7cd19a",
   "metadata": {},
   "source": [
    "1. business understanding 商業理解\n",
    "    - 根據數據進行聚類，提供數據特征\n",
    "2. data understanding 數據理解\n",
    "    - 分析評估數據的有效性\n",
    "3. data preparation 數據準備\n",
    "    - 對原始數據進行清洗\n",
    "4. modeling 建立模型\n",
    "    - 根據數據情況建立模型\n",
    "5. evaluation 模型評估\n",
    "    - 重點考慮結果是否符合商業目的\n",
    "6. deployment 部署\n",
    "    - 撰寫報告"
   ]
  },
  {
   "cell_type": "markdown",
   "id": "f0efa269-2575-4124-87c1-0a660bd43462",
   "metadata": {},
   "source": [
    "- - -"
   ]
  },
  {
   "cell_type": "markdown",
   "id": "605c0b76-d3b5-41eb-a715-b19a26814e21",
   "metadata": {
    "tags": []
   },
   "source": [
    "## 機器學習"
   ]
  },
  {
   "cell_type": "markdown",
   "id": "b1c5c331-a10a-4d38-89a6-2c281f869a51",
   "metadata": {},
   "source": [
    "提供數據挖掘的<b>相關技術</b>，  \n",
    "幫助企業提取數據的<b>商業價值</b>，提升<b>競爭力</b>。  \n",
    "- 分類與預測\n",
    "- 聚類分析\n",
    "- 關聯規則\n",
    "- 時序模式\n",
    "- 偏差檢測\n",
    "- 智能推薦\n",
    "- 自然語言處理\n"
   ]
  },
  {
   "cell_type": "markdown",
   "id": "e2be4259-301b-45e2-9007-43721ada5777",
   "metadata": {
    "tags": []
   },
   "source": [
    "### 常見算法"
   ]
  },
  {
   "cell_type": "markdown",
   "id": "4c98c70a-ab2b-4cde-be8c-f19ae862081d",
   "metadata": {
    "tags": []
   },
   "source": [
    "##### 數據挖掘算法\n",
    "C4.5, K-means, SVM, Apri, EM, PageRank, AdaBoost, kNN, Naive Bayes, CART\n",
    "##### 機器學習算法\n",
    "線性迴歸，決策樹，神經網絡，單純貝氏分類器，集成學習，聚類，規律學習，強化學習\n",
    "##### 深度學習\n",
    "神經網絡的延申，使用多個網絡層從原始護具逐步提取更高的特徵。  \n",
    "能夠從設置的網絡結構中計算網絡權值和預測結果，並根據結果不斷優化權值以此達到最優預測。"
   ]
  },
  {
   "cell_type": "markdown",
   "id": "85cf6702-849b-4721-bd5d-a22ff13a0dfd",
   "metadata": {},
   "source": [
    "- - -"
   ]
  },
  {
   "cell_type": "markdown",
   "id": "8f3a63df-1448-4905-84db-04153a9c553a",
   "metadata": {
    "tags": []
   },
   "source": [
    "## 工具"
   ]
  },
  {
   "cell_type": "markdown",
   "id": "cd95961b-ed78-483f-9dda-f05e719c6da0",
   "metadata": {},
   "source": [
    "編程：Python, R  \n",
    "軟件：Visual Studio Code, jupyter notebook/lab, Tableau, Power BI, Excel"
   ]
  },
  {
   "cell_type": "markdown",
   "id": "8a27293f-c2d1-4993-8113-f42034d8318e",
   "metadata": {},
   "source": [
    "Python第三方庫: numpy, padans, Matplotlib, pyecharts, scikit-learn"
   ]
  },
  {
   "cell_type": "markdown",
   "id": "1b861fc0-d09b-4af3-baad-357215a41a41",
   "metadata": {
    "tags": []
   },
   "source": [
    "## 流程"
   ]
  },
  {
   "cell_type": "code",
   "execution_count": null,
   "id": "0ee44f09-467b-4beb-b2f3-22064773bf1f",
   "metadata": {},
   "outputs": [],
   "source": [
    "# !pip3 install snapshot-selenium\n",
    "# !pip3 install pyecharts"
   ]
  },
  {
   "cell_type": "code",
   "execution_count": 6,
   "id": "e4c6d229-b1bb-495a-b220-7e979fde8efc",
   "metadata": {},
   "outputs": [],
   "source": [
    "import pandas as pd\n",
    "import numpy as np\n",
    "from matplotlib import pyplot as plt"
   ]
  },
  {
   "cell_type": "markdown",
   "id": "190cc94d-5d0f-4bbd-a758-754e1ff6800d",
   "metadata": {
    "tags": []
   },
   "source": [
    "### 1. 明確分析目的"
   ]
  },
  {
   "cell_type": "code",
   "execution_count": null,
   "id": "787ee0bd-bcf5-40c6-a647-05741653ad24",
   "metadata": {},
   "outputs": [],
   "source": []
  },
  {
   "cell_type": "code",
   "execution_count": null,
   "id": "d41c8d74-a676-4efc-9982-79cf2d301634",
   "metadata": {},
   "outputs": [],
   "source": []
  },
  {
   "cell_type": "markdown",
   "id": "b2099209-73e6-4579-9bc1-7a1ec5127d85",
   "metadata": {},
   "source": [
    "### 2. 數據搜集"
   ]
  },
  {
   "cell_type": "code",
   "execution_count": null,
   "id": "5af35a9d-600f-4362-96ae-4e3f2fc9f9d1",
   "metadata": {},
   "outputs": [],
   "source": []
  },
  {
   "cell_type": "code",
   "execution_count": null,
   "id": "bb1332ba-a807-47be-9059-358d2754143e",
   "metadata": {},
   "outputs": [],
   "source": []
  },
  {
   "cell_type": "markdown",
   "id": "5128dfb2-e6e7-44e7-887e-8c9e83c51422",
   "metadata": {
    "tags": []
   },
   "source": [
    "### 3. 數據處理"
   ]
  },
  {
   "cell_type": "markdown",
   "id": "8e78f254-772a-45a1-9af4-9cb57911a84a",
   "metadata": {},
   "source": [
    "## csv to json"
   ]
  },
  {
   "cell_type": "code",
   "execution_count": 7,
   "id": "793b8766-133f-430f-bc3b-b07bf9f7ba30",
   "metadata": {},
   "outputs": [],
   "source": [
    "import csv\n",
    "import json"
   ]
  },
  {
   "cell_type": "code",
   "execution_count": 11,
   "id": "ee0be6e6-6865-44f3-97f2-1453e1f9785c",
   "metadata": {},
   "outputs": [],
   "source": [
    "def csv_to_json(csvFilePath, jsonFilePath):\n",
    "    jsonArray = []\n",
    "      \n",
    "    #read csv file\n",
    "    with open(csvFilePath, encoding='utf-8') as csvf: \n",
    "        #load csv file data using csv library's dictionary reader\n",
    "        csvReader = csv.DictReader(csvf) \n",
    "\n",
    "        #convert each csv row into python dict\n",
    "        for row in csvReader: \n",
    "            #add this python dict to json array\n",
    "            jsonArray.append(row)\n",
    "  \n",
    "    #convert python jsonArray to JSON String and write to file\n",
    "    with open(jsonFilePath, 'w') as jsonf: \n",
    "        jsonString = json.dumps(jsonArray, indent=4)\n",
    "        jsonf.write(jsonString)\n",
    "          \n",
    "csvFilePath = r'/Users/ansoncar/Desktop/數據分析/模擬戰/01New.csv'\n",
    "jsonFilePath = r'data.json'\n",
    "\n",
    "csv_to_json(csvFilePath, jsonFilePath)"
   ]
  },
  {
   "cell_type": "code",
   "execution_count": null,
   "id": "dcb98346-6518-4bd4-ad30-0148abf942b2",
   "metadata": {},
   "outputs": [],
   "source": [
    "df = pd.read_csv(\"\")"
   ]
  },
  {
   "cell_type": "code",
   "execution_count": null,
   "id": "5a99c6ed-1115-471e-97a0-655620cdd94b",
   "metadata": {},
   "outputs": [],
   "source": []
  },
  {
   "cell_type": "code",
   "execution_count": null,
   "id": "0c12fa6e-63fa-4e43-a7b9-3af7476c006e",
   "metadata": {},
   "outputs": [],
   "source": [
    "df.info #顯示檔案的資訊\n",
    "df.head() #顯示最前五筆資料\n",
    "df.tail() #顯示最後五筆資料\n",
    "df.shape #顯示(rows,columns)"
   ]
  },
  {
   "cell_type": "code",
   "execution_count": null,
   "id": "dfd1e9ee-7087-40d6-928f-7d4d62da7ae9",
   "metadata": {},
   "outputs": [],
   "source": [
    "df[\"\"][0:4] #選擇某幾筆資料"
   ]
  },
  {
   "cell_type": "code",
   "execution_count": null,
   "id": "e036bdd0-09c4-41b0-ae12-2063531c5f3b",
   "metadata": {},
   "outputs": [],
   "source": [
    "df[\"\"].max() 最大值  \n",
    "df[\"\"].min() 最小值  \n",
    "df[\"\"].mean() 平均值  \n",
    "df[\"\"].sum() 求和"
   ]
  },
  {
   "cell_type": "markdown",
   "id": "0c01a3dd-2b20-45db-9aab-8d472fee50a0",
   "metadata": {},
   "source": [
    "### 4. 數據分析"
   ]
  },
  {
   "cell_type": "code",
   "execution_count": null,
   "id": "c1366281-d69f-4df1-88b1-bf7b045b0c91",
   "metadata": {},
   "outputs": [],
   "source": []
  },
  {
   "cell_type": "code",
   "execution_count": null,
   "id": "35444e46-9035-4bf7-9a2e-5ba6468c9216",
   "metadata": {},
   "outputs": [],
   "source": []
  },
  {
   "cell_type": "markdown",
   "id": "fe6656b7-c32f-4f1a-bd61-88a69b561292",
   "metadata": {},
   "source": [
    "### 5. 數據展示"
   ]
  },
  {
   "cell_type": "code",
   "execution_count": null,
   "id": "ad1f6d09-66eb-4a8f-9621-7b45c522eb9e",
   "metadata": {},
   "outputs": [],
   "source": []
  },
  {
   "cell_type": "code",
   "execution_count": null,
   "id": "31fac4da-c891-43d7-930f-79199db30265",
   "metadata": {},
   "outputs": [],
   "source": []
  },
  {
   "cell_type": "markdown",
   "id": "9b645f1d-8ad2-4502-83c3-bc3077c4ad48",
   "metadata": {},
   "source": [
    "### 6. 撰寫報告"
   ]
  },
  {
   "cell_type": "code",
   "execution_count": null,
   "id": "1f4b3ba7-12f7-4c96-ba50-51ad9ecf77c5",
   "metadata": {},
   "outputs": [],
   "source": []
  },
  {
   "cell_type": "code",
   "execution_count": null,
   "id": "9927d538-57c9-4676-8d39-da4b25982fa2",
   "metadata": {},
   "outputs": [],
   "source": []
  },
  {
   "cell_type": "markdown",
   "id": "198b76da-69cc-4ee8-9a59-8fecfd437707",
   "metadata": {},
   "source": [
    "- - -"
   ]
  },
  {
   "cell_type": "markdown",
   "id": "ba8b0d88-263f-4a8f-a55f-6f9f29b98e8b",
   "metadata": {
    "tags": []
   },
   "source": [
    "## 參考資料"
   ]
  },
  {
   "cell_type": "markdown",
   "id": "2956900e-087f-411d-a6b1-37e6b9182172",
   "metadata": {},
   "source": [
    "- 泰迪盃\n",
    "1. https://www.bilibili.com/video/BV1sP4y1S77n/?spm_id_from=333.788&vd_source=321cde0fad227f78b3a5c63379a71f04\n",
    "2. https://www.bilibili.com/video/BV16m4y1F7jA/?spm_id_from=333.788&vd_source=321cde0fad227f78b3a5c63379a71f04\n",
    "3. https://www.bilibili.com/video/BV1QD4y1b7gR/?spm_id_from=333.788&vd_source=321cde0fad227f78b3a5c63379a71f04\n",
    "- pandas\n",
    "4. https://ithelp.ithome.com.tw/articles/10193421\n",
    "- Matplotlib\n",
    "5. https://www.runoob.com/matplotlib/matplotlib-tutorial.html\n",
    "6. https://www.runoob.com/w3cnote/matplotlib-tutorial.html\n",
    "- pyecharts\n",
    "7. https://pyecharts.org/#/zh-cn/\n",
    "- scikit-learn\n",
    "8. https://ithelp.ithome.com.tw/articles/10204845"
   ]
  }
 ],
 "metadata": {
  "kernelspec": {
   "display_name": "Python 3.10.7 64-bit",
   "language": "python",
   "name": "python3"
  },
  "language_info": {
   "codemirror_mode": {
    "name": "ipython",
    "version": 3
   },
   "file_extension": ".py",
   "mimetype": "text/x-python",
   "name": "python",
   "nbconvert_exporter": "python",
   "pygments_lexer": "ipython3",
   "version": "3.10.7"
  },
  "toc-autonumbering": false,
  "toc-showcode": false,
  "toc-showmarkdowntxt": true,
  "toc-showtags": false,
  "vscode": {
   "interpreter": {
    "hash": "aee8b7b246df8f9039afb4144a1f6fd8d2ca17a180786b69acc140d282b71a49"
   }
  }
 },
 "nbformat": 4,
 "nbformat_minor": 5
}
