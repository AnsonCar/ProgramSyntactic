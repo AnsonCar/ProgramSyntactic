{
 "cells": [
  {
   "cell_type": "markdown",
   "id": "cc5deb18-0274-4079-83a7-8b2731100aab",
   "metadata": {},
   "source": [
    "# 靜態爬蟲\n",
    "- - -"
   ]
  },
  {
   "cell_type": "markdown",
   "id": "7a1571aa-6531-4b9f-a4ce-0057d20fc07b",
   "metadata": {},
   "source": [
    "本Code為靜態爬蟲，  \n",
    "只用 BeautifulSoup4。"
   ]
  },
  {
   "cell_type": "markdown",
   "id": "5d526a79-f522-4d3c-ae8f-adfa19189aa1",
   "metadata": {},
   "source": [
    "本次爬蟲的網頁： <u> https://www.primeproperty.com.hk/property/hong-kong-office/central/21261/10-glenealy </u>  \n",
    "爬取資料：商廈資料"
   ]
  },
  {
   "cell_type": "markdown",
   "id": "50ac259a-8d68-4845-bf0b-a16dfdc31ae6",
   "metadata": {},
   "source": [
    "## 1. 引入庫\n",
    "- - - "
   ]
  },
  {
   "cell_type": "markdown",
   "id": "7b9f3c4f-756e-4277-af0d-3197a664ad84",
   "metadata": {},
   "source": [
    "#### 安裝庫： \n",
    "- pip install pandas  \n",
    "- pip install requests  \n",
    "- pip install beautifulsoup4 "
   ]
  },
  {
   "cell_type": "code",
   "execution_count": 1,
   "id": "d1dd54ed-ba9a-4299-a496-0c794d14e2af",
   "metadata": {},
   "outputs": [],
   "source": [
    "import pandas as pd\n",
    "import requests\n",
    "from bs4 import BeautifulSoup\n",
    "\n",
    "from selenium import webdriver\n",
    "from selenium.webdriver.chrome.options import Options"
   ]
  },
  {
   "cell_type": "markdown",
   "id": "a1022d06-b268-484e-98e6-87517d97b76c",
   "metadata": {},
   "source": [
    "## 2. 基本準備 \n",
    "- - -"
   ]
  },
  {
   "cell_type": "markdown",
   "id": "3aea312f-594c-4756-a8b1-59c3b8260ed3",
   "metadata": {},
   "source": [
    "先定義好需要輸出的列(column)"
   ]
  },
  {
   "cell_type": "code",
   "execution_count": 2,
   "id": "92c52146-9fcf-4d22-8037-5b2dcf1f9356",
   "metadata": {},
   "outputs": [],
   "source": [
    "'''\n",
    "TS = Total Size     = 總面積\n",
    "NF = No of Floor    = 樓層數目\n",
    "YB = Year Built     = 落成年份\n",
    "FS = Floor System   = 地台\n",
    "CH = Ceiling Height = 天花高度\n",
    "'''\n",
    "# 定義 list\n",
    "TS = []\n",
    "NF = []\n",
    "YB = []\n",
    "FS = []\n",
    "CH = [] "
   ]
  },
  {
   "cell_type": "markdown",
   "id": "29814b12-c9b8-43ef-9e97-f5c22f921c89",
   "metadata": {},
   "source": [
    "## 3. 訪問網站\n",
    "- - -"
   ]
  },
  {
   "cell_type": "markdown",
   "id": "5129f7bf-8e38-40c1-8fbb-f9c115af26e1",
   "metadata": {},
   "source": [
    "用 BeautifulSoup 爬取 網頁的 HTML"
   ]
  },
  {
   "cell_type": "code",
   "execution_count": 3,
   "id": "654836a0-88ed-4c1e-a8ca-e864450f28af",
   "metadata": {},
   "outputs": [],
   "source": [
    "url = \"https://www.primeproperty.com.hk/property/hong-kong-office/central/21261/10-glenealy\"\n",
    "data = requests.get(url)\n",
    "data.encoding = \"utf-8\"\n",
    "html = data.text"
   ]
  },
  {
   "cell_type": "markdown",
   "id": "c28af5a0-7010-4497-9fe8-2f1f7f13da77",
   "metadata": {},
   "source": [
    "## 4. 爬蟲\n",
    "- - -"
   ]
  },
  {
   "cell_type": "code",
   "execution_count": 4,
   "id": "7194feb7-264e-40b4-ab81-acadd22225e5",
   "metadata": {},
   "outputs": [],
   "source": [
    "soup = BeautifulSoup(html, \"html.parser\")"
   ]
  },
  {
   "cell_type": "code",
   "execution_count": 5,
   "id": "aad2441a-3031-4f33-b060-e905ff1b5420",
   "metadata": {},
   "outputs": [],
   "source": [
    "# 目標資料\n",
    "info = soup.find(class_ = \"card-body tab-pane fade active show\") \n",
    "info2 = info.find_all(class_= \"col-12 col-sm-6 col-lg-4 mb-3\")\n",
    "info3 = info.find_all_next(class_=\"font-weight-bold\")"
   ]
  },
  {
   "cell_type": "markdown",
   "id": "801cdaa0-02f9-44d5-98f4-95e6c70abf87",
   "metadata": {},
   "source": [
    "## 5.整理資料\n",
    "- - -"
   ]
  },
  {
   "cell_type": "markdown",
   "id": "dee5f678-cade-4a17-a44a-de9ee69b2397",
   "metadata": {},
   "source": [
    "目標資料已經成功爬到手，恭喜恭喜。  \n",
    "但資料還有HTMl碼存在，所以我們需要整再作進一步處理。"
   ]
  },
  {
   "cell_type": "code",
   "execution_count": 6,
   "id": "4425e32f-575b-4156-b34c-ed48ea740316",
   "metadata": {},
   "outputs": [],
   "source": [
    "data = [ x.text for x in info3 ]\n",
    "output = [ data[x] for x in range(2,7) ]\n",
    "output2 = [ x.strip() for x in output ]\n",
    "TS.append(output2[0])\n",
    "NF.append(output2[1])\n",
    "YB.append(output2[2])\n",
    "FS.append(output2[3])\n",
    "CH.append(output2[4])"
   ]
  },
  {
   "cell_type": "markdown",
   "id": "992d313b-dae7-4e67-9e82-644d94adc6f9",
   "metadata": {},
   "source": [
    "## 6. 輸出數據\n",
    "- - -"
   ]
  },
  {
   "cell_type": "markdown",
   "id": "14df4840-6c77-4878-9827-c4422406830f",
   "metadata": {},
   "source": [
    "再一次恭喜你，成功爬取目標資料，  \n",
    "最後，我們要把這些資料 輸出成 csv檔，方便日後使用。"
   ]
  },
  {
   "cell_type": "code",
   "execution_count": 7,
   "id": "f950bdc8-bf52-4ba7-884b-9bdb10dc86c5",
   "metadata": {},
   "outputs": [
    {
     "data": {
      "text/html": [
       "<div>\n",
       "<style scoped>\n",
       "    .dataframe tbody tr th:only-of-type {\n",
       "        vertical-align: middle;\n",
       "    }\n",
       "\n",
       "    .dataframe tbody tr th {\n",
       "        vertical-align: top;\n",
       "    }\n",
       "\n",
       "    .dataframe thead th {\n",
       "        text-align: right;\n",
       "    }\n",
       "</style>\n",
       "<table border=\"1\" class=\"dataframe\">\n",
       "  <thead>\n",
       "    <tr style=\"text-align: right;\">\n",
       "      <th></th>\n",
       "      <th>總面積</th>\n",
       "      <th>樓層數目</th>\n",
       "      <th>落成年份</th>\n",
       "      <th>地台</th>\n",
       "      <th>天花高度</th>\n",
       "    </tr>\n",
       "  </thead>\n",
       "  <tbody>\n",
       "    <tr>\n",
       "      <th>0</th>\n",
       "      <td>N/A</td>\n",
       "      <td>7</td>\n",
       "      <td>1960</td>\n",
       "      <td>N/A</td>\n",
       "      <td>N/A</td>\n",
       "    </tr>\n",
       "  </tbody>\n",
       "</table>\n",
       "</div>"
      ],
      "text/plain": [
       "   總面積 樓層數目  落成年份   地台 天花高度\n",
       "0  N/A    7  1960  N/A  N/A"
      ]
     },
     "execution_count": 7,
     "metadata": {},
     "output_type": "execute_result"
    }
   ],
   "source": [
    "Table = pd.DataFrame( {\"總面積\":TS, \"樓層數目\":NF, \"落成年份\":YB, \"地台\":FS,\"天花高度\":CH}) # 用字典格式告知 pandas 要做成 DataFrame 的數據\n",
    "Table"
   ]
  },
  {
   "cell_type": "code",
   "execution_count": 8,
   "id": "2d8fa23f-0dfd-42d8-859a-72ede7e6e438",
   "metadata": {},
   "outputs": [],
   "source": [
    "Table.to_csv(\"BuildingInfo.csv\", index = False) # index可加，可不加 "
   ]
  },
  {
   "cell_type": "markdown",
   "id": "fff56eea-f825-42a6-a39b-4005ec9ab510",
   "metadata": {},
   "source": [
    "## 參考資料\n",
    "- - -\n",
    "- <https://www.osgeo.cn/beautifulsoup/#>\n",
    "- <https://ithelp.ithome.com.tw/articles/10186119>"
   ]
  },
  {
   "cell_type": "markdown",
   "id": "b99ce6ac-a4d2-4d95-8642-6fdee7f873cb",
   "metadata": {},
   "source": []
  },
  {
   "cell_type": "markdown",
   "id": "9c46745e-abb7-44e3-b140-1abc4a648d2b",
   "metadata": {},
   "source": [
    "更新於 27-10-2022  \n",
    "by 重韻"
   ]
  }
 ],
 "metadata": {
  "kernelspec": {
   "display_name": "Python 3.11.0 64-bit",
   "language": "python",
   "name": "python3"
  },
  "language_info": {
   "codemirror_mode": {
    "name": "ipython",
    "version": 3
   },
   "file_extension": ".py",
   "mimetype": "text/x-python",
   "name": "python",
   "nbconvert_exporter": "python",
   "pygments_lexer": "ipython3",
   "version": "3.11.0"
  },
  "vscode": {
   "interpreter": {
    "hash": "aee8b7b246df8f9039afb4144a1f6fd8d2ca17a180786b69acc140d282b71a49"
   }
  }
 },
 "nbformat": 4,
 "nbformat_minor": 5
}
