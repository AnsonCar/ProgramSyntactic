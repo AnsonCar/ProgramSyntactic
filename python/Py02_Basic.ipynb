{
 "cells": [
  {
   "cell_type": "markdown",
   "metadata": {},
   "source": [
    "# Python_基礎"
   ]
  },
  {
   "cell_type": "markdown",
   "metadata": {},
   "source": [
    "## 查看 Python 版本"
   ]
  },
  {
   "cell_type": "markdown",
   "metadata": {},
   "source": [
    "### 在 終端機 \n",
    "python3 -V  \n",
    "python3 --version"
   ]
  },
  {
   "cell_type": "markdown",
   "metadata": {},
   "source": [
    "### 在 Jupyter Lab"
   ]
  },
  {
   "cell_type": "code",
   "execution_count": 1,
   "metadata": {},
   "outputs": [
    {
     "name": "stdout",
     "output_type": "stream",
     "text": [
      "Python 3.11.0\n",
      "Python 3.11.0\n"
     ]
    }
   ],
   "source": [
    "\n",
    "# 在 python 程式塊 加 ! 可以使用 終端命令\n",
    "!python3 -V\n",
    "!python3 --version\n"
   ]
  },
  {
   "cell_type": "markdown",
   "metadata": {},
   "source": [
    "### 人生第一個輸出(output)"
   ]
  },
  {
   "cell_type": "code",
   "execution_count": 2,
   "metadata": {},
   "outputs": [
    {
     "name": "stdout",
     "output_type": "stream",
     "text": [
      "Hello World\n",
      "DSA NO.1\n"
     ]
    }
   ],
   "source": [
    "print(\"Hello World\")\n",
    "# 私貨\n",
    "print(\"DSA NO.1\")"
   ]
  },
  {
   "cell_type": "markdown",
   "metadata": {},
   "source": [
    "## 測試程式運行時間"
   ]
  },
  {
   "cell_type": "code",
   "execution_count": 3,
   "metadata": {},
   "outputs": [
    {
     "name": "stdout",
     "output_type": "stream",
     "text": [
      "1.1205673217773438e-05\n"
     ]
    }
   ],
   "source": [
    "# 引入 time庫\n",
    "import time\n",
    "# 取得開始時間\n",
    "start = time.time()\n",
    "# 運行程式\n",
    "\n",
    "# 取得結束時間\n",
    "end = time.time()\n",
    "# Output 時間差（結束時間-開始時間）\n",
    "print(end - start)"
   ]
  },
  {
   "cell_type": "markdown",
   "metadata": {},
   "source": [
    "### 例子"
   ]
  },
  {
   "cell_type": "code",
   "execution_count": 4,
   "metadata": {},
   "outputs": [
    {
     "name": "stdout",
     "output_type": "stream",
     "text": [
      "I am Anson Tsang\n",
      "宜家我22歲\n",
      "\n",
      "運行時間: 3.0040740966796875e-05\n"
     ]
    }
   ],
   "source": [
    "import time\n",
    "start = time.time()\n",
    "\n",
    "Name = \"Anson Tsang\"\n",
    "Age = 22\n",
    "end = time.time()\n",
    "print(f\"I am {Name}\")\n",
    "print(\"宜家我%d歲\"%(Age))\n",
    "print( \"\\n運行時間:\", end - start)\n"
   ]
  },
  {
   "cell_type": "markdown",
   "metadata": {},
   "source": [
    "## Data Tpye"
   ]
  },
  {
   "cell_type": "markdown",
   "metadata": {},
   "source": [
    "## 參考資料\n",
    "- <https://www.runoob.com/python3/python3-tutorial.html>\n",
    "- <https://www.runoob.com/python/python-date-time.html>"
   ]
  },
  {
   "cell_type": "markdown",
   "metadata": {},
   "source": [
    "更新於 25-11-2022 by 重韻"
   ]
  }
 ],
 "metadata": {
  "kernelspec": {
   "display_name": "Python 3.11.0 64-bit",
   "language": "python",
   "name": "python3"
  },
  "language_info": {
   "codemirror_mode": {
    "name": "ipython",
    "version": 3
   },
   "file_extension": ".py",
   "mimetype": "text/x-python",
   "name": "python",
   "nbconvert_exporter": "python",
   "pygments_lexer": "ipython3",
   "version": "3.11.0"
  },
  "orig_nbformat": 4,
  "vscode": {
   "interpreter": {
    "hash": "aee8b7b246df8f9039afb4144a1f6fd8d2ca17a180786b69acc140d282b71a49"
   }
  }
 },
 "nbformat": 4,
 "nbformat_minor": 2
}
