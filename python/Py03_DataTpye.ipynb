{
 "cells": [
  {
   "cell_type": "markdown",
   "metadata": {},
   "source": [
    "# Data Tpye\n",
    "- - -\n",
    "Python 中的變量不需要聲明。每個變量在使用前都必須賦值，變量賦值以後該變量才會被創建。"
   ]
  },
  {
   "cell_type": "markdown",
   "metadata": {},
   "source": [
    "## 1. 標準數據類型\n",
    "- - - \n",
    "1. Number (數字)\n",
    "2. String (字串)\n",
    "3. List (列表)\n",
    "4. Tuple (元組)\n",
    "5. Set (集合)\n",
    "6. Dictionary (字典)"
   ]
  },
  {
   "cell_type": "markdown",
   "metadata": {},
   "source": [
    "### 1.1 可變:\n",
    "不可變數據（3個）： Number（數字）、String（字符串）、Tuple（元組)\n",
    "可變數據（3個）： List（列表）、Dictionary（字典）、Set（集合)"
   ]
  },
  {
   "cell_type": "markdown",
   "metadata": {},
   "source": [
    "### 1.2 細分:\n",
    "#### 1.2.1 Number\n",
    "int, float, bool, complex\n",
    " \n",
    "int = 整數  \n",
    "float = 浮點數(有小數的數字)  \n",
    "bool = 布林值(True / False)\n",
    "complex = 複數"
   ]
  },
  {
   "cell_type": "markdown",
   "metadata": {},
   "source": [
    "### 1.3 例子"
   ]
  },
  {
   "cell_type": "code",
   "execution_count": 11,
   "metadata": {},
   "outputs": [],
   "source": [
    "x = \"Hello World\"                   # str\n",
    "x = 20\t                            # int\n",
    "x = 20.5\t                        # float\t\n",
    "x = 1j\t                            # complex\n",
    "x = [\"apple\", \"banana\", \"cherry\"]\t# list\n",
    "x = (\"apple\", \"banana\", \"cherry\")\t# tuple\n",
    "x = range(6)\t                    # range\n",
    "x = {\"name\" : \"John\", \"age\" : 36}\t# dict\n",
    "x = {\"apple\", \"banana\", \"cherry\"}\t# set\n",
    "x = True\t                        # bool\n",
    "x = None                            # NoneType\n"
   ]
  },
  {
   "cell_type": "code",
   "execution_count": 12,
   "metadata": {},
   "outputs": [],
   "source": [
    "x = str(\"Hello World\")\t                        # str\n",
    "x = int(20)\t                                    # int\n",
    "x = float(20.5)\t                                # float\n",
    "x = complex(1j)\t                                # complex\n",
    "x = list((\"apple\", \"banana\", \"cherry\"))\t        # list\n",
    "x = tuple((\"apple\", \"banana\", \"cherry\"))\t    # tuple\n",
    "x = range(6)\t                                # range\n",
    "x = dict(name=\"John\", age=36)\t                # dict\n",
    "x = set((\"apple\", \"banana\", \"cherry\"))\t        # set\t\n",
    "x = bool(5)\t                                    # bool"
   ]
  },
  {
   "cell_type": "markdown",
   "metadata": {},
   "source": [
    "## 2. 查看數據類型\n",
    "- - -"
   ]
  },
  {
   "cell_type": "markdown",
   "metadata": {},
   "source": [
    "### 2.1 用 type() 查看類型"
   ]
  },
  {
   "cell_type": "code",
   "execution_count": 13,
   "metadata": {},
   "outputs": [
    {
     "name": "stdout",
     "output_type": "stream",
     "text": [
      "<class 'str'>\n",
      "<class 'int'>\n",
      "<class 'float'>\n",
      "<class 'complex'>\n",
      "<class 'list'>\n",
      "<class 'tuple'>\n",
      "<class 'range'>\n",
      "<class 'dict'>\n",
      "<class 'set'>\n",
      "<class 'bool'>\n",
      "<class 'NoneType'>\n"
     ]
    }
   ],
   "source": [
    " \n",
    "x = \"Hello World\"                   # str\n",
    "print(type(x))\n",
    "x = 20\t                            # int\t\n",
    "print(type(x))\n",
    "x = 20.5\t                        # float\t\n",
    "print(type(x))\n",
    "x = 1j\t                            # complex\t\n",
    "print(type(x))\n",
    "x = [\"apple\", \"banana\", \"cherry\"]\t# list\t\n",
    "print(type(x))\n",
    "x = (\"apple\", \"banana\", \"cherry\")\t# tuple\t\n",
    "print(type(x))\n",
    "x = range(6)\t                    # range\t\n",
    "print(type(x))\n",
    "x = {\"name\" : \"John\", \"age\" : 36}\t# dict\t\n",
    "print(type(x))\n",
    "x = {\"apple\", \"banana\", \"cherry\"}\t# set\t\n",
    "print(type(x))\n",
    "x = True\t                        # bool\t\t\n",
    "print(type(x))\n",
    "x = None                            # NoneType\n",
    "print(type(x))\n"
   ]
  },
  {
   "cell_type": "markdown",
   "metadata": {},
   "source": [
    "### 2.1 用 isinstance() 判斷類型"
   ]
  },
  {
   "cell_type": "code",
   "execution_count": 14,
   "metadata": {},
   "outputs": [
    {
     "name": "stdout",
     "output_type": "stream",
     "text": [
      "True\n",
      "False\n"
     ]
    }
   ],
   "source": [
    "\n",
    "x = \"Hello World\"                   # str\n",
    "print(isinstance(x, str))\n",
    "\n",
    "x = None                            # NoneType\n",
    "print(isinstance(x, str))\n"
   ]
  },
  {
   "cell_type": "markdown",
   "metadata": {},
   "source": [
    "## 3. 數據類型轉換\n",
    "- - -"
   ]
  },
  {
   "cell_type": "code",
   "execution_count": 15,
   "metadata": {},
   "outputs": [],
   "source": [
    "# 用 DataType(Data) \n",
    "x = str(1)\t                                    # int to str\n",
    "x = int(20.1)\t                                # float to int\n",
    "x = float(20)\t                                # int to float\n",
    "x = tuple([\"apple\", \"banana\", \"cherry\"])\t    # list to tuple\n",
    "x = list((\"apple\", \"banana\", \"cherry\"))\t        # tuple to list\n",
    "# 其他不寫了"
   ]
  },
  {
   "cell_type": "markdown",
   "metadata": {},
   "source": [
    "#### 以下几个内置的函数可以执行数据类型之间的转换。这些函数返回一个新的对象，表示转换的值。  \n",
    "\n",
    "int(x) #将x转换为一个整数  \n",
    "\n",
    "float(x) #将x转换到一个浮点数  \n",
    "\n",
    "complex(x) #创建一个复数  \n",
    "\n",
    "str(x) #将对象 x 转换为字符串  \n",
    "\n",
    "repr(x) #将对象 x 转换为表达式字符串  \n",
    "\n",
    "eval(str) #用来计算在字符串中的有效Python表达式,并返回一个对象  \n",
    "\n",
    "tuple(x) #将序列 s 转换为一个元组  \n",
    "\n",
    "list(x) #将序列 s 转换为一个列表  \n",
    "\n",
    "set(x) #转换为可变集合  \n",
    "\n",
    "dict(x) #创建一个字典。d 必须是一个 (key, value)元组序列。  \n",
    "\n",
    "frozenset(x) #转换为不可变集合  \n",
    "\n",
    "chr(x) #将一个整数转换为一个字符  \n",
    "\n",
    "ord(x) #将一个字符转换为它的整数值  \n",
    "\n",
    "hex(x) #将一个整数转换为一个十六进制字符串  \n",
    "\n",
    "oct(x) #将一个整数转换为一个八进制字符串  "
   ]
  },
  {
   "cell_type": "markdown",
   "metadata": {},
   "source": [
    "## 參考資料\n",
    "- <https://www.runoob.com/python3/python3-data-type.html>\n",
    "- <https://www.w3schools.com/python/python_datatypes.asp>\n",
    "- <https://www.runoob.com/python3/python3-type-conversion.html>"
   ]
  },
  {
   "cell_type": "markdown",
   "metadata": {},
   "source": [
    "更新於 25-11-2022 by 重韻"
   ]
  }
 ],
 "metadata": {
  "kernelspec": {
   "display_name": "Python 3.11.0 64-bit",
   "language": "python",
   "name": "python3"
  },
  "language_info": {
   "codemirror_mode": {
    "name": "ipython",
    "version": 3
   },
   "file_extension": ".py",
   "mimetype": "text/x-python",
   "name": "python",
   "nbconvert_exporter": "python",
   "pygments_lexer": "ipython3",
   "version": "3.11.0"
  },
  "orig_nbformat": 4,
  "vscode": {
   "interpreter": {
    "hash": "aee8b7b246df8f9039afb4144a1f6fd8d2ca17a180786b69acc140d282b71a49"
   }
  }
 },
 "nbformat": 4,
 "nbformat_minor": 2
}
